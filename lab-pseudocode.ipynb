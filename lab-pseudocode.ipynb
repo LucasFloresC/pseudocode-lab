{
 "cells": [
  {
   "cell_type": "markdown",
   "metadata": {},
   "source": [
    "# PSEUDOCODE"
   ]
  },
  {
   "cell_type": "markdown",
   "metadata": {},
   "source": [
    "In this lab, you will work to find any solution(hopefully the easiest) to complete this exercise."
   ]
  },
  {
   "cell_type": "markdown",
   "metadata": {},
   "source": [
    "RANDOM GUESS OF A NUMBER\n",
    "\n",
    "The user must give you the start and final number. Your code must be developed to select a random number between this 2. If your selection is too high/low you must give a hint to the user: The number is too high/low. Finally, when the user selects the correct number you must return a \"Congratulations etc\" and the number of guesses needed to find the number. \n",
    "\n",
    "IF YOU TRY IT AND YOU FIND THE NUMBER FIRST GUESS, PLEASE SEND A SCREENSHOT VIA SLACK `(MANDATORY)`"
   ]
  },
  {
   "cell_type": "code",
   "execution_count": 47,
   "metadata": {},
   "outputs": [],
   "source": [
    "# Your code here\n",
    "def numeros():\n",
    "    import random\n",
    "    first  = int(input(\"Enter a number: \"))\n",
    "    second = int(input(\"Enter a number: \"))\n",
    "    number = random.randint(first,second) # numero aleatorio entre el rango escogido por el jugador\n",
    "    counter = 0\n",
    "    result = int(input(\"Guess the number: \"))# numero que adivina el usuario\n",
    "    while True:\n",
    "        if result == number:\n",
    "            counter +=1\n",
    "            print (f\"Congratulations you guessed right! You need {counter} guesses!\")\n",
    "            break\n",
    "        if result < number:\n",
    "            counter +=1\n",
    "            print(\"Your number is lower than the result\", flush= True)\n",
    "            \n",
    "            \n",
    "            \n",
    "        elif result > number:\n",
    "            counter +=1\n",
    "            print(\"Your number is higher than the result\", flush=True)\n",
    "            \n",
    "        result = int(input(\"Guess the number: \"))\n",
    "        \n",
    "    "
   ]
  },
  {
   "cell_type": "code",
   "execution_count": 48,
   "metadata": {},
   "outputs": [
    {
     "name": "stdout",
     "output_type": "stream",
     "text": [
      "Your number is lower than the result\n",
      "Your number is higher than the result\n",
      "Your number is higher than the result\n",
      "Congratulations you guessed right! You need 4 guesses!\n"
     ]
    }
   ],
   "source": [
    "numeros()"
   ]
  },
  {
   "cell_type": "code",
   "execution_count": null,
   "metadata": {},
   "outputs": [],
   "source": []
  }
 ],
 "metadata": {
  "kernelspec": {
   "display_name": "toni2",
   "language": "python",
   "name": "python3"
  },
  "language_info": {
   "codemirror_mode": {
    "name": "ipython",
    "version": 3
   },
   "file_extension": ".py",
   "mimetype": "text/x-python",
   "name": "python",
   "nbconvert_exporter": "python",
   "pygments_lexer": "ipython3",
   "version": "3.12.5"
  }
 },
 "nbformat": 4,
 "nbformat_minor": 2
}
